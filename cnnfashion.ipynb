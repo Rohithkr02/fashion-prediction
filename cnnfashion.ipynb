{
  "nbformat": 4,
  "nbformat_minor": 0,
  "metadata": {
    "colab": {
      "provenance": [],
      "authorship_tag": "ABX9TyPNqcoS85NpNzFMRcQdla3X",
      "include_colab_link": true
    },
    "kernelspec": {
      "name": "python3",
      "display_name": "Python 3"
    },
    "language_info": {
      "name": "python"
    },
    "accelerator": "GPU",
    "gpuClass": "standard"
  },
  "cells": [
    {
      "cell_type": "markdown",
      "metadata": {
        "id": "view-in-github",
        "colab_type": "text"
      },
      "source": [
        "<a href=\"https://colab.research.google.com/github/Rohithkr02/fashion-prediction/blob/main/cnnfashion.ipynb\" target=\"_parent\"><img src=\"https://colab.research.google.com/assets/colab-badge.svg\" alt=\"Open In Colab\"/></a>"
      ]
    },
    {
      "cell_type": "code",
      "execution_count": null,
      "metadata": {
        "id": "UeJe0Vbw2-Hj",
        "colab": {
          "base_uri": "https://localhost:8080/"
        },
        "outputId": "3943f7b3-f628-4dfa-c65a-646c99061e56"
      },
      "outputs": [
        {
          "output_type": "stream",
          "name": "stdout",
          "text": [
            "Downloading data from https://storage.googleapis.com/tensorflow/tf-keras-datasets/train-labels-idx1-ubyte.gz\n",
            "29515/29515 [==============================] - 0s 0us/step\n",
            "Downloading data from https://storage.googleapis.com/tensorflow/tf-keras-datasets/train-images-idx3-ubyte.gz\n",
            "26421880/26421880 [==============================] - 0s 0us/step\n",
            "Downloading data from https://storage.googleapis.com/tensorflow/tf-keras-datasets/t10k-labels-idx1-ubyte.gz\n",
            "5148/5148 [==============================] - 0s 0us/step\n",
            "Downloading data from https://storage.googleapis.com/tensorflow/tf-keras-datasets/t10k-images-idx3-ubyte.gz\n",
            "4422102/4422102 [==============================] - 0s 0us/step\n"
          ]
        }
      ],
      "source": [
        "from keras.datasets import fashion_mnist\n",
        "(X_train,y_train),(X_test,y_test)=fashion_mnist.load_data()"
      ]
    },
    {
      "cell_type": "code",
      "source": [
        "X_train.shape"
      ],
      "metadata": {
        "colab": {
          "base_uri": "https://localhost:8080/"
        },
        "id": "AWvHHqjl4dH4",
        "outputId": "c7d17c30-985e-45d4-a228-2e9eb037941b"
      },
      "execution_count": null,
      "outputs": [
        {
          "output_type": "execute_result",
          "data": {
            "text/plain": [
              "(60000, 28, 28)"
            ]
          },
          "metadata": {},
          "execution_count": 2
        }
      ]
    },
    {
      "cell_type": "code",
      "source": [
        "X_test.shape"
      ],
      "metadata": {
        "colab": {
          "base_uri": "https://localhost:8080/"
        },
        "id": "CPX8LPSV4jBe",
        "outputId": "cfa7f217-ce96-4ee9-e286-fbd97329bd79"
      },
      "execution_count": null,
      "outputs": [
        {
          "output_type": "execute_result",
          "data": {
            "text/plain": [
              "(10000, 28, 28)"
            ]
          },
          "metadata": {},
          "execution_count": 3
        }
      ]
    },
    {
      "cell_type": "code",
      "source": [
        "y_train.shape"
      ],
      "metadata": {
        "colab": {
          "base_uri": "https://localhost:8080/"
        },
        "id": "DBfuax-u_4Tc",
        "outputId": "89bc7ca7-2052-4113-ae73-488be5fe5d67"
      },
      "execution_count": null,
      "outputs": [
        {
          "output_type": "execute_result",
          "data": {
            "text/plain": [
              "(60000,)"
            ]
          },
          "metadata": {},
          "execution_count": 4
        }
      ]
    },
    {
      "cell_type": "code",
      "source": [
        "import matplotlib.pyplot as plt\n",
        "plt.imshow(X_train[0])\n",
        "print(y_train[0])"
      ],
      "metadata": {
        "colab": {
          "base_uri": "https://localhost:8080/",
          "height": 282
        },
        "id": "hln2Oic24n5D",
        "outputId": "5734bd7b-bbb9-49c2-e464-0f108e318581"
      },
      "execution_count": null,
      "outputs": [
        {
          "output_type": "stream",
          "name": "stdout",
          "text": [
            "9\n"
          ]
        },
        {
          "output_type": "display_data",
          "data": {
            "text/plain": [
              "<Figure size 432x288 with 1 Axes>"
            ],
            "image/png": "[encoded data removed]"
          },
          "metadata": {
            "needs_background": "light"
          }
        }
      ]
    },
    {
      "cell_type": "code",
      "source": [
        "X_train=X_train.reshape(X_train.shape[0],28,28,1)\n",
        "X_test=X_test.reshape(10000,28,28,1)"
      ],
      "metadata": {
        "id": "3eE5A3gE5Muz"
      },
      "execution_count": null,
      "outputs": []
    },
    {
      "cell_type": "code",
      "source": [
        "train_norm=X_train/255\n",
        "test_norm=X_test/255"
      ],
      "metadata": {
        "id": "2s2fXvG96HAo"
      },
      "execution_count": null,
      "outputs": []
    },
    {
      "cell_type": "code",
      "source": [
        "import keras\n",
        "y_train=keras.utils.to_categorical(y_train)\n",
        "y_test=keras.utils.to_categorical(y_train)"
      ],
      "metadata": {
        "id": "oiDSyifkA_u3"
      },
      "execution_count": null,
      "outputs": []
    },
    {
      "cell_type": "code",
      "source": [
        "from keras.models import Sequential\n",
        "from keras.layers import Conv2D,MaxPool2D,Dense,Flatten"
      ],
      "metadata": {
        "id": "W0HqM0Mx6YL6"
      },
      "execution_count": null,
      "outputs": []
    },
    {
      "cell_type": "code",
      "source": [
        "model=Sequential()\n",
        "model.add(Conv2D(32,(3,3),activation='relu',input_shape=(28,28,1)))\n",
        "model.add(MaxPool2D(2,2))\n",
        "model.add(Conv2D(32,(3,3),activation='relu'))\n",
        "model.add(MaxPool2D(2,2))\n",
        "model.add(Flatten())\n",
        "model.add(Dense(10,activation='relu'))\n",
        "model.add(Dense(10,activation='softmax'))"
      ],
      "metadata": {
        "id": "doES-p0P6X4l"
      },
      "execution_count": null,
      "outputs": []
    },
    {
      "cell_type": "code",
      "source": [
        "model.compile(optimizer='adam',loss='categorical_crossentropy',metrics=['accuracy'])"
      ],
      "metadata": {
        "id": "sQaBvx5O-rzA"
      },
      "execution_count": null,
      "outputs": []
    },
    {
      "cell_type": "code",
      "source": [
        "model.fit(train_norm,y_train,batch_size=6000,epochs=10)"
      ],
      "metadata": {
        "colab": {
          "base_uri": "https://localhost:8080/"
        },
        "id": "FB_pda8T-6jG",
        "outputId": "b59da7ef-74e5-40e8-84ee-63b5196da7d1"
      },
      "execution_count": null,
      "outputs": [
        {
          "output_type": "stream",
          "name": "stdout",
          "text": [
            "Epoch 1/10\n",
            "10/10 [==============================] - 12s 61ms/step - loss: 2.2540 - accuracy: 0.2382\n",
            "Epoch 2/10\n",
            "10/10 [==============================] - 1s 65ms/step - loss: 2.0888 - accuracy: 0.2726\n",
            "Epoch 3/10\n",
            "10/10 [==============================] - 1s 64ms/step - loss: 1.8426 - accuracy: 0.2794\n",
            "Epoch 4/10\n",
            "10/10 [==============================] - 1s 65ms/step - loss: 1.5910 - accuracy: 0.3234\n",
            "Epoch 5/10\n",
            "10/10 [==============================] - 1s 60ms/step - loss: 1.3484 - accuracy: 0.4522\n",
            "Epoch 6/10\n",
            "10/10 [==============================] - 1s 59ms/step - loss: 1.1401 - accuracy: 0.5973\n",
            "Epoch 7/10\n",
            "10/10 [==============================] - 1s 58ms/step - loss: 0.9626 - accuracy: 0.6855\n",
            "Epoch 8/10\n",
            "10/10 [==============================] - 1s 59ms/step - loss: 0.8241 - accuracy: 0.7237\n",
            "Epoch 9/10\n",
            "10/10 [==============================] - 1s 59ms/step - loss: 0.7392 - accuracy: 0.7468\n",
            "Epoch 10/10\n",
            "10/10 [==============================] - 1s 58ms/step - loss: 0.6837 - accuracy: 0.7635\n"
          ]
        },
        {
          "output_type": "execute_result",
          "data": {
            "text/plain": [
              "<keras.callbacks.History at 0x7f7fe82b40a0>"
            ]
          },
          "metadata": {},
          "execution_count": 12
        }
      ]
    },
    {
      "cell_type": "code",
      "source": [
        "model.summary()"
      ],
      "metadata": {
        "colab": {
          "base_uri": "https://localhost:8080/"
        },
        "id": "h2mO8X6r4o2w",
        "outputId": "a2f4ba57-11f8-4e0c-95ca-f7a187170ae7"
      },
      "execution_count": null,
      "outputs": [
        {
          "output_type": "stream",
          "name": "stdout",
          "text": [
            "Model: \"sequential\"\n",
            "_________________________________________________________________\n",
            " Layer (type)                Output Shape              Param #   \n",
            "=================================================================\n",
            " conv2d (Conv2D)             (None, 26, 26, 32)        320       \n",
            "                                                                 \n",
            " max_pooling2d (MaxPooling2D  (None, 13, 13, 32)       0         \n",
            " )                                                               \n",
            "                                                                 \n",
            " conv2d_1 (Conv2D)           (None, 11, 11, 32)        9248      \n",
            "                                                                 \n",
            " max_pooling2d_1 (MaxPooling  (None, 5, 5, 32)         0         \n",
            " 2D)                                                             \n",
            "                                                                 \n",
            " flatten (Flatten)           (None, 800)               0         \n",
            "                                                                 \n",
            " dense (Dense)               (None, 10)                8010      \n",
            "                                                                 \n",
            " dense_1 (Dense)             (None, 10)                110       \n",
            "                                                                 \n",
            "=================================================================\n",
            "Total params: 17,688\n",
            "Trainable params: 17,688\n",
            "Non-trainable params: 0\n",
            "_________________________________________________________________\n"
          ]
        }
      ]
    },
    {
      "cell_type": "code",
      "source": [
        "import numpy as np\n",
        "from keras.utils import load_img\n",
        "from keras.utils import img_to_array\n",
        "def load_im(filename,target_size=(28,28)):\n",
        "  img=load_img(filename,grayscale=True,target_size=target_size)\n",
        "  img_array=img_to_array(img)\n",
        "  img=img_array.reshape(1,28,28,1)\n",
        "  img=img/255.0\n",
        "  return img\n",
        "def predict_new(filename,model):\n",
        "  img=load_im(filename)\n",
        "  result=model.predict(img)\n",
        "  dic={0:'T-shirt/top',1:'Trouser',2:'Pullover',3:'Dress',4:'Coat',5:'sandal',6:'Shirt',\n",
        "       7:'Sneaker',8:'Bag',9:'Ankle boot'}\n",
        "  max=np.argmax(result)\n",
        "  print(dic[max])"
      ],
      "metadata": {
        "id": "h2a0Dkjz5ifx"
      },
      "execution_count": null,
      "outputs": []
    },
    {
      "cell_type": "code",
      "source": [
        "predict_new('/content/images (6).jpeg',model)"
      ],
      "metadata": {
        "colab": {
          "base_uri": "https://localhost:8080/"
        },
        "id": "0FB2ujtI9ZBq",
        "outputId": "290ac999-7975-4917-9657-14d0b324acb4"
      },
      "execution_count": null,
      "outputs": [
        {
          "output_type": "stream",
          "name": "stdout",
          "text": [
            "1/1 [==============================] - 0s 131ms/step\n",
            "Ankle boot\n"
          ]
        },
        {
          "output_type": "stream",
          "name": "stderr",
          "text": [
            "/usr/local/lib/python3.9/dist-packages/keras/utils/image_utils.py:409: UserWarning: grayscale is deprecated. Please use color_mode = \"grayscale\"\n",
            "  warnings.warn(\n"
          ]
        }
      ]
    }
  ]
}